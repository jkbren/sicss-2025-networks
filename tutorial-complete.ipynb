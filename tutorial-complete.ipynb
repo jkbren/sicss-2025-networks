{
 "cells": [
  {
   "cell_type": "code",
   "execution_count": null,
   "metadata": {},
   "outputs": [],
   "source": [
    "import warnings\n",
    "warnings.filterwarnings(\"ignore\", category=UserWarning)\n",
    "\n",
    "import numpy as np\n",
    "import matplotlib.pyplot as plt\n",
    "import matplotlib.patheffects as path_effects\n",
    "from matplotlib import rc\n",
    "rc('axes', fc='w')\n",
    "rc('figure', fc='w')\n",
    "rc('savefig', fc='w')\n",
    "rc('axes', axisbelow=True)"
   ]
  },
  {
   "cell_type": "markdown",
   "metadata": {},
   "source": [
    "# Network Science, Network Visualization, and Python\n",
    "by __[Brennan Klein](https://brennanklein.com/)__ (August 12, 2025)\n",
    "\n",
    "\n",
    "\n",
    "## Standard Python packages used in this tutorial\n",
    "* numpy\n",
    "* scipy\n",
    "* pandas\n",
    "* matplotlib\n",
    "* networkx\n",
    "\n",
    "## Other Python packages used here\n",
    "* [geopandas](https://geopandas.org/en/stable/)\n",
    "* [infomap](https://mapequation.github.io/infomap/)\n",
    "* [community](https://github.com/taynaud/python-louvain)\n",
    "\n",
    "### Other useful network science / network analysis packages\n",
    "* [graph-tool](https://graph-tool.skewed.de/)\n",
    "    * Much more popular recently due to its sophisticated and principled techniques for modeling networks as statistical objects.\n",
    "* __[netrd](https://github.com/netsiphd/netrd)__\n",
    "    * Useful for reconstructing networks from time series data, comparing networks, or simulating dynamics on networks.\n",
    "* [igraph](https://igraph.org/https://igraph.org/)\n",
    "    * Has many algorighms / functionality that is not native to `networkx`."
   ]
  },
  {
   "cell_type": "markdown",
   "metadata": {},
   "source": [
    "_____________"
   ]
  },
  {
   "cell_type": "markdown",
   "metadata": {
    "tags": []
   },
   "source": [
    "# 1.0 Today, we will primarily work within `networkx`"
   ]
  },
  {
   "cell_type": "code",
   "execution_count": null,
   "metadata": {},
   "outputs": [],
   "source": [
    "import networkx as nx\n",
    "nx.__version__"
   ]
  },
  {
   "cell_type": "markdown",
   "metadata": {},
   "source": [
    "## 1.1 `networkx` objects\n",
    "From the networkx documentation page: \n",
    "\n",
    "    \"By definition, a Graph is a collection of nodes (vertices) along with identified pairs of nodes (called edges, links, etc). In NetworkX, nodes can be any hashable object e.g., a text string, an image, an XML object, another Graph, a customized node object, etc.\""
   ]
  },
  {
   "cell_type": "markdown",
   "metadata": {},
   "source": [
    "## Basic Definitions\n",
    "- An ***undirected graph*** $G$ is defined by a pair of sets $G = (V,E)$, where $V$ is a non-empty countable set of elements referred to as *nodes* or *vertices* and $E$ is a set of *non-ordered* pairs of different vertices, known as *edges* or *links*.\n",
    "- A ***directed graph*** (sometimes shorthanded to \"digraph\") is defined by a pair of sets $G = (V,E)$, where $V$ is non-empty countable set of elements, *nodes* or *vertices*, and $E$ is a set of *ordered* pairs of different vertices, **directed** *edges* or *links*."
   ]
  },
  {
   "cell_type": "code",
   "execution_count": null,
   "metadata": {},
   "outputs": [],
   "source": [
    "# Let's create two distinct empty graphs: \n",
    "\n",
    "graph = nx.Graph() # undirected graph\n",
    "digraph = nx.DiGraph() # directed graph"
   ]
  },
  {
   "cell_type": "markdown",
   "metadata": {},
   "source": [
    "________"
   ]
  },
  {
   "cell_type": "markdown",
   "metadata": {},
   "source": [
    "A graph $G=(V,E)$ can be represented mathematically by an $N\\times N$ ***adjancency matrix*** $A$.\n",
    "\n",
    "$$ A = \n",
    "\\begin{pmatrix}\n",
    "    a_{1,1} & a_{1,2} & \\cdots & a_{1,N} \\\\\n",
    "    a_{2,1} & a_{2,2} & \\cdots & a_{2,N} \\\\\n",
    "    \\vdots  & \\vdots  & \\ddots & \\vdots  \\\\\n",
    "    a_{N,1} & a_{N,2} & \\cdots & a_{N,N} \n",
    "\\end{pmatrix},$$\n",
    " \n",
    "where $\\forall i,j \\in V$, \n",
    "$$a_{ij} =\n",
    "\\begin{cases}\n",
    "    1    & \\quad \\text{if } e_{ij} \\in E\\\\\n",
    "    0    & \\quad \\text{if } e_{ij} \\notin E\\\\\n",
    "\\end{cases}$$\n",
    "    \n",
    "In an *undirected graph*, the adjacency matrix $A$ is symmetric such that $a_{ij} = a_{ji}$; in a *directed graph* the elements $a_{ij}$ and $a_{ji}$ are not necessarily equivalent (a property called *reciprocity*).\n",
    "\n",
    "**Note:** A lot in network science leads back to *linear algebra*, a topic in mathematics that describes matrices and their properties. The fact that we can represent a network as a matrix opens a world of possible questions we can ask of the graphs we'll be working with."
   ]
  },
  {
   "cell_type": "markdown",
   "metadata": {},
   "source": [
    "Adjacency matrices also permit us to represent weighted edges, yielding a ***weighted graph***, which is a network (undirected or directed) where we associate a value (usually a real number) to each edge. This weighted graph $G=(V,E,\\Omega)$, then, we can define using with a $N\\times N$ *weighted adjancency matrix*, $W$.\n",
    "\n",
    "$$ W = \n",
    "\\begin{pmatrix}\n",
    "    w_{1,1} & w_{1,2} & \\cdots & w_{1,N} \\\\\n",
    "    w_{2,1} & w_{2,2} & \\cdots & w_{2,N} \\\\\n",
    "    \\vdots  & \\vdots  & \\ddots & \\vdots  \\\\\n",
    "    w_{N,1} & w_{N,2} & \\cdots & w_{N,N} \n",
    "\\end{pmatrix},\n",
    "$$\n",
    " \n",
    "where $\\forall i,j \\in V$,\n",
    "$$w_{ij} =\n",
    "\\begin{cases}\n",
    "    w    & \\quad \\text{if } e_{ij} \\in E\\\\\n",
    "    0    & \\quad \\text{if } e_{ij} \\notin E\\\\\n",
    "\\end{cases}\n",
    "$$\n",
    "______________"
   ]
  },
  {
   "cell_type": "markdown",
   "metadata": {},
   "source": [
    "## 1.2 Adding nodes"
   ]
  },
  {
   "cell_type": "code",
   "execution_count": null,
   "metadata": {},
   "outputs": [],
   "source": [
    "# First, we can populate the graphs with some nodes\n",
    "# We can do this in several ways:\n",
    "\n",
    "# 1) We can add one node at the time\n",
    "for i in range(10):\n",
    "    graph.add_node(i)"
   ]
  },
  {
   "cell_type": "code",
   "execution_count": null,
   "metadata": {},
   "outputs": [],
   "source": [
    "# 2) We can add nodes from a list or any other iterable container\n",
    "nodes = ['a','b','c','d','e'] # notice that nodes can be strings\n",
    "digraph.add_nodes_from(nodes)"
   ]
  },
  {
   "cell_type": "code",
   "execution_count": null,
   "metadata": {},
   "outputs": [],
   "source": [
    "list(digraph.nodes())"
   ]
  },
  {
   "cell_type": "code",
   "execution_count": null,
   "metadata": {},
   "outputs": [],
   "source": [
    "list(graph.nodes())"
   ]
  },
  {
   "cell_type": "code",
   "execution_count": null,
   "metadata": {},
   "outputs": [],
   "source": [
    "# 3) We can also directly add edges and if the node is not present, it will be added\n",
    "graph.add_edge(1,20)"
   ]
  },
  {
   "cell_type": "code",
   "execution_count": null,
   "metadata": {},
   "outputs": [],
   "source": [
    "graph.add_edge('brennan','enya')"
   ]
  },
  {
   "cell_type": "code",
   "execution_count": null,
   "metadata": {},
   "outputs": [],
   "source": [
    "# We can retrieve the list of nodes in each graph by accessing\n",
    "print(graph.nodes())"
   ]
  },
  {
   "cell_type": "markdown",
   "metadata": {},
   "source": [
    "## 1.3 Adding Edges"
   ]
  },
  {
   "cell_type": "code",
   "execution_count": null,
   "metadata": {},
   "outputs": [],
   "source": [
    "# Now that we added a bunch of nodes, we can add some edges\n",
    "# 1) We can add one edge at the time (as we have just witnessed above)\n",
    "digraph.add_edge('a','b')\n",
    "digraph.add_edge('c','a')"
   ]
  },
  {
   "cell_type": "code",
   "execution_count": null,
   "metadata": {},
   "outputs": [],
   "source": [
    "list(digraph.edges())"
   ]
  },
  {
   "cell_type": "code",
   "execution_count": null,
   "metadata": {},
   "outputs": [],
   "source": [
    "# 2) We can add an entire edge list all at once\n",
    "edge_list = [(1,2), (3,5), (9,4), (4,7)]\n",
    "graph.add_edges_from(edge_list)"
   ]
  },
  {
   "cell_type": "code",
   "execution_count": null,
   "metadata": {},
   "outputs": [],
   "source": [
    "# We can retrieve the list of edges in each graph by simply running\n",
    "print(graph.edges())"
   ]
  },
  {
   "cell_type": "code",
   "execution_count": null,
   "metadata": {},
   "outputs": [],
   "source": [
    "# However, when graphs are big (either in terms of the number of nodes or in terms of the number of edges),\n",
    "# it is more convenient to loop over \"iterators\" and not over lists.\n",
    "for edge in graph.edges():\n",
    "    print(edge)"
   ]
  },
  {
   "cell_type": "code",
   "execution_count": null,
   "metadata": {},
   "outputs": [],
   "source": [
    "# We can also retrieve the list of neighbors of a given node\n",
    "print(list(graph.neighbors(1)))\n",
    "print(list(digraph.predecessors('a')))\n",
    "print(list(digraph.successors('a')))"
   ]
  },
  {
   "cell_type": "markdown",
   "metadata": {},
   "source": [
    "__________"
   ]
  },
  {
   "cell_type": "code",
   "execution_count": null,
   "metadata": {},
   "outputs": [],
   "source": [
    "edgelist = [(0,1),(0,2),(0,3),(0,4),(1,2),(1,3),(1,5),(2,3),(4,5)]\n",
    "\n",
    "adjacency_dict = {0: [1,2,3,4],\n",
    "                  1: [0,2,3,5],\n",
    "                  2: [0,1,3],\n",
    "                  3: [0,1,2],\n",
    "                  4: [0,5],\n",
    "                  5: [1,4]}\n",
    "\n",
    "adjacency_matrix = np.array([[0,1,1,1,1,0],\n",
    "                             [1,0,1,1,0,1],\n",
    "                             [1,1,0,1,0,0],\n",
    "                             [1,1,1,0,0,0],\n",
    "                             [1,0,0,0,0,1],\n",
    "                             [0,1,0,0,1,0]])\n",
    "\n",
    "\n",
    "G1 = nx.from_edgelist(edgelist, create_using=nx.Graph)\n",
    "G2 = nx.from_dict_of_lists(adjacency_dict, create_using=nx.Graph)\n",
    "G3 = nx.from_numpy_array(adjacency_matrix, create_using=nx.Graph)"
   ]
  },
  {
   "cell_type": "code",
   "execution_count": null,
   "metadata": {},
   "outputs": [],
   "source": [
    "pos = nx.spring_layout(G1)\n",
    "\n",
    "fig, ax = plt.subplots(1,3,figsize=(10,3),dpi=100)\n",
    "\n",
    "nx.draw(G1, pos=pos, node_color='cornflowerblue', with_labels=True, ax=ax[0])\n",
    "ax[0].set_title('nx.from_edgelist')\n",
    "\n",
    "nx.draw(G2, pos=pos, node_color='palevioletred', with_labels=True, ax=ax[1])\n",
    "ax[1].set_title('nx.from_dict_of_lists')\n",
    "\n",
    "nx.draw(G3, pos=pos, node_color='goldenrod', with_labels=True, ax=ax[2])\n",
    "ax[2].set_title('nx.from_numpy_array')\n",
    "\n",
    "\n",
    "plt.suptitle(\"(they're all the same)\",y=1.1,color='limegreen')\n",
    "\n",
    "\n",
    "plt.show()"
   ]
  },
  {
   "cell_type": "markdown",
   "metadata": {},
   "source": [
    "## 1.4 Adding node and edge attributes\n",
    "In NetworkX, we can add additional features to our graphs other than the simple presence of nodes and edges. <br>\n",
    "In particular, we can add attributes to both entities. <br>\n"
   ]
  },
  {
   "cell_type": "code",
   "execution_count": null,
   "metadata": {},
   "outputs": [],
   "source": [
    "# For example, we might wanna add a \"size\" attribute to each node, \n",
    "# so we can use it once we decide to visualize a graph.\n",
    "graph.add_node(50,size=100,weight=90,height=600)"
   ]
  },
  {
   "cell_type": "code",
   "execution_count": null,
   "metadata": {},
   "outputs": [],
   "source": [
    "list(graph.nodes())"
   ]
  },
  {
   "cell_type": "code",
   "execution_count": null,
   "metadata": {},
   "outputs": [],
   "source": [
    "print(graph.nodes(data=True)) # the \"data=True\" bit means you want to see node attributes"
   ]
  },
  {
   "cell_type": "code",
   "execution_count": null,
   "metadata": {},
   "outputs": [],
   "source": [
    "# or we might want to associate a \"weight\" to each edge we include in the graph\n",
    "digraph.add_edge('a','b',weight=10, timestamp='monday')"
   ]
  },
  {
   "cell_type": "code",
   "execution_count": null,
   "metadata": {},
   "outputs": [],
   "source": [
    "print(digraph.edges(data=True))"
   ]
  },
  {
   "cell_type": "code",
   "execution_count": null,
   "metadata": {},
   "outputs": [],
   "source": [
    "# However, we might also want to add a new attribute to all nodes or edges already present in the graph.\n",
    "# This can be done using the \"set_node_attributes\" or \"set_edge_attributes\" methods provided by NetworkX:\n",
    "\n",
    "new_node_attribute_values = {node:75 for node in graph.nodes()}\n",
    "nx.set_node_attributes(graph, new_node_attribute_values, 'size')\n",
    "\n",
    "# graph= the data you want, new_node_attribute_values is the variable you're adding,\n",
    "# 'size'= is the name of the attribute"
   ]
  },
  {
   "cell_type": "code",
   "execution_count": null,
   "metadata": {},
   "outputs": [],
   "source": [
    "print(graph.nodes(data=True))"
   ]
  },
  {
   "cell_type": "code",
   "execution_count": null,
   "metadata": {},
   "outputs": [],
   "source": [
    "new_edge_attribute_values = {edge:'blue' for edge in graph.edges()}\n",
    "nx.set_edge_attributes(graph, new_edge_attribute_values, 'color')"
   ]
  },
  {
   "cell_type": "code",
   "execution_count": null,
   "metadata": {},
   "outputs": [],
   "source": [
    "nx.get_edge_attributes(graph,'color')"
   ]
  },
  {
   "cell_type": "code",
   "execution_count": null,
   "metadata": {},
   "outputs": [],
   "source": [
    "print(graph.edges(data=True))"
   ]
  },
  {
   "cell_type": "markdown",
   "metadata": {},
   "source": [
    "## 1.5 Removing Nodes and Edges"
   ]
  },
  {
   "cell_type": "code",
   "execution_count": null,
   "metadata": {},
   "outputs": [],
   "source": [
    "# We can remove all nodes and edges\n",
    "digraph.clear()\n",
    "print(digraph.nodes())"
   ]
  },
  {
   "cell_type": "code",
   "execution_count": null,
   "metadata": {},
   "outputs": [],
   "source": [
    "# Or simply remove some of the nodes/edges..\n",
    "#..one item at the time\n",
    "graph.remove_edge(1,2)\n",
    "graph.remove_node(7)"
   ]
  },
  {
   "cell_type": "code",
   "execution_count": null,
   "metadata": {},
   "outputs": [],
   "source": [
    "#..or several items all at once\n",
    "edge_list = [(1,2), (9,4)]\n",
    "graph.remove_edges_from(edge_list)\n",
    "\n",
    "node_list = [3,5]\n",
    "graph.remove_nodes_from(node_list)"
   ]
  },
  {
   "cell_type": "markdown",
   "metadata": {},
   "source": [
    "## 1.6 Perform basic operations on the network\n",
    "### 1.6.1 Get the number of nodes and links in the graph"
   ]
  },
  {
   "cell_type": "code",
   "execution_count": null,
   "metadata": {},
   "outputs": [],
   "source": [
    "edge_list = [(1,2), (3,5), (9,4), (4,7)]\n",
    "graph.add_edges_from(edge_list)\n",
    "\n",
    "print(\"Number of nodes: %d\" % graph.number_of_nodes())\n",
    "print(\"Number of edges: %d\" % graph.number_of_edges())"
   ]
  },
  {
   "cell_type": "code",
   "execution_count": null,
   "metadata": {},
   "outputs": [],
   "source": [
    "graph.name = 'My graph'\n",
    "graph.name"
   ]
  },
  {
   "cell_type": "code",
   "execution_count": null,
   "metadata": {},
   "outputs": [],
   "source": []
  },
  {
   "cell_type": "markdown",
   "metadata": {},
   "source": [
    "__________\n",
    "#### Connectivity & Components & Subgraphs\n",
    "\n",
    "A graph is said to be ***connected*** if there exists a path connecting any two vertices in the graph. An undirected & connected graph without closed loops is known as a **tree**.\n",
    "\n",
    "A graph $G'= (V',E')$ is said to be a ***subgraph*** of graph $G= (V,E)$ if $N' \\subseteq N$ and $E' \\subseteq E$. A graph $G'= (V',E')$ ***vertex-induced subgraph*** (or, more colloqially, an  ***induced subgraph***) is a graph that includes only a subset of $V' \\subseteq V$ of vertices of graph $G= (V,E)$ and any edge $e_{ij}$ whose vertices $i$ and $j$ are both in $V'$."
   ]
  },
  {
   "cell_type": "code",
   "execution_count": null,
   "metadata": {},
   "outputs": [],
   "source": [
    "nx.draw(graph);\n",
    "\n",
    "print(\"nx.is_connected(G):\",nx.is_connected(graph),'\\n')"
   ]
  },
  {
   "cell_type": "code",
   "execution_count": null,
   "metadata": {},
   "outputs": [],
   "source": [
    "G = nx.karate_club_graph()\n",
    "nx.draw(G);\n",
    "\n",
    "print(\"nx.is_connected(G):\",nx.is_connected(G),'\\n')"
   ]
  },
  {
   "cell_type": "markdown",
   "metadata": {},
   "source": [
    "#### Components\n",
    "\n",
    "A ***component*** $C$ of a graph $G=(V,E)$ is a connected subgraph of $G$. The ***largest connected component*** is simply the connected component with the most nodes in the network. The ***giant component*** of a graph is defined as the component whose size scales with the number of vertices of the graph (i.e. it diverges in the limit $N\\rightarrow\\infty$).\n",
    "\n",
    "In a *directed graph*, a we have to introduce the notions of *strong* and *weak* when defining connected components. A ***weakly connected component*** is a connected subgraph where we consider all paths disregarding the direction of the edges and considering the graph *as if* it were undirected. ***Strongly connected components*** are connected subgraphs where edge direction plays an important factor.\n"
   ]
  },
  {
   "cell_type": "markdown",
   "metadata": {},
   "source": [
    "________"
   ]
  },
  {
   "cell_type": "markdown",
   "metadata": {},
   "source": [
    "# 1.7 Input / output of network data: The \"Polblogs\" dataset\n",
    "**Source:** [Adamic, L. A., & Glance, N. (2005)](https://doi.org/10.1145/1134271.1134277https://doi.org/10.1145/1134271.1134277). The political blogosphere and the 2004 US election: Divided they blog. In *Proceedings of the 3rd International Workshop on Link Discovery* (pp. 36-43).\n",
    "\n",
    "In the following we will learn how to load a directed graph, extract a vertex-induced subgraph, and compute the in- and out-degree of the vertices of the graph. We will use a directed graph that includes a collection of hyperlinks between weblogs on US politics, recorded in 2005 by Adamic and Glance.\n",
    "\n",
    "The data are included in two tab-separated files:\n",
    "* `polblogs_nodes.tsv`: node id, node label, political orientation (0 = left or liberal, 1 = right or conservative).\n",
    "* `polblogs_edges.tsv`: source node id, target node id. \n"
   ]
  },
  {
   "cell_type": "markdown",
   "metadata": {},
   "source": [
    "#### Step-by-step way to make this network:\n",
    "1. One-by-one add nodes (blogs)\n",
    "2. Connect nodes based on hyperlinks between blogs"
   ]
  },
  {
   "cell_type": "code",
   "execution_count": null,
   "metadata": {},
   "outputs": [],
   "source": [
    "digraph = nx.DiGraph()\n",
    "with open('./datasets/polblogs_nodes_class.tsv','r') as fp:\n",
    "    for line in fp:\n",
    "        node_id, node_label, node_political = line.strip().split('\\t')\n",
    "        political_orientation = 'liberal' if node_political == '0' else 'conservative'\n",
    "        digraph.add_node(node_id, website=node_label, political_orientation=political_orientation)"
   ]
  },
  {
   "cell_type": "code",
   "execution_count": null,
   "metadata": {},
   "outputs": [],
   "source": [
    "with open('./datasets/polblogs_edges_class.tsv','r') as fp:\n",
    "    for line in fp:\n",
    "        source_node_id, target_node_id = line.strip().split('\\t')\n",
    "        digraph.add_edge(source_node_id, target_node_id)"
   ]
  },
  {
   "cell_type": "code",
   "execution_count": null,
   "metadata": {},
   "outputs": [],
   "source": [
    "print(\"Number of nodes: %d\" % digraph.number_of_nodes())\n",
    "print(\"Number of edges: %d\" % digraph.number_of_edges())\n",
    "print(\"Graph density:\\t %1.7f\" % nx.density(digraph))"
   ]
  },
  {
   "cell_type": "markdown",
   "metadata": {},
   "source": [
    "## 1.7.1 Calculate properties of our graph - degree"
   ]
  },
  {
   "cell_type": "code",
   "execution_count": null,
   "metadata": {},
   "outputs": [],
   "source": [
    "degree = digraph.degree()\n",
    "in_degree = digraph.in_degree()\n",
    "out_degree = digraph.out_degree()\n",
    "\n",
    "# I ususally make this a dictionary straight away\n",
    "degree = dict(degree)\n",
    "in_degree = dict(in_degree)\n",
    "out_degree = dict(out_degree)\n",
    "\n",
    "for i,j in list(degree.items())[:7]:\n",
    "    print('Node', i, 'is connected to', j, 'other nodes')\n",
    "print('...')\n",
    "print('...... and so on')"
   ]
  },
  {
   "cell_type": "code",
   "execution_count": null,
   "metadata": {},
   "outputs": [],
   "source": [
    "import numpy as np"
   ]
  },
  {
   "cell_type": "code",
   "execution_count": null,
   "metadata": {},
   "outputs": [],
   "source": [
    "node = list(digraph.nodes())[0]\n",
    "\n",
    "print('Degree of node %s: %d' % (node, degree[node]))\n",
    "print('In-degree of node %s: %d' % (node, in_degree[node]))\n",
    "print('Out-degree of node %s: %d' % (node, out_degree[node]))\n",
    "print(\"Node %s's political orientation: %s\" %(node, digraph.nodes[node]['political_orientation']))\n",
    "print()\n",
    "print(\"Average degree: %1.2f\" % np.mean(list(degree.values())))\n",
    "print(\"Average in-degree: %1.2f\" % np.mean(list(in_degree.values())))\n",
    "print(\"Average out-degree: %1.2f\" % np.mean(list(out_degree.values())))"
   ]
  },
  {
   "cell_type": "markdown",
   "metadata": {},
   "source": [
    "## 1.7.2 Connectivity patterns between liberal and conservative blogs"
   ]
  },
  {
   "cell_type": "code",
   "execution_count": null,
   "metadata": {},
   "outputs": [],
   "source": [
    "# Let us define two sets:\n",
    "# 1) a set of \"liberal\" nodes\n",
    "# 2) a set of \"conservative\" nodes\n",
    "\n",
    "liberal = set()\n",
    "conservative = set()\n",
    "\n",
    "for node_id in digraph.nodes():\n",
    "\n",
    "    if digraph.nodes[node_id]['political_orientation'] == 'liberal':\n",
    "        liberal.add(node_id)\n",
    "        \n",
    "    else:\n",
    "        conservative.add(node_id)\n",
    "\n",
    "print(\"Number of liberal blogs: %d\" % len(liberal))\n",
    "print(\"Number of conservative blogs: %d\" % len(conservative))"
   ]
  },
  {
   "cell_type": "markdown",
   "metadata": {},
   "source": [
    "Let's now compute:\n",
    "1. the number of edges between liberal blogs\n",
    "2. the number of edges between conservative blogs\n",
    "3. the number of edges from conservative blogs to liberal blogs\n",
    "4. the number of edges from liberal blogs to conservative blogs\n"
   ]
  },
  {
   "cell_type": "code",
   "execution_count": null,
   "metadata": {},
   "outputs": [],
   "source": [
    "liberal_liberal = 0\n",
    "conservative_conservative = 0\n",
    "liberal_conservative = 0\n",
    "conservative_liberal = 0\n",
    "\n",
    "for source_node_id, target_node_id in digraph.edges():\n",
    "    \n",
    "    if (source_node_id in liberal) and (target_node_id in liberal):\n",
    "        liberal_liberal += 1\n",
    "        \n",
    "    elif (source_node_id in liberal) and (target_node_id in conservative):\n",
    "        liberal_conservative += 1\n",
    "        \n",
    "    elif (source_node_id in conservative) and (target_node_id in liberal):\n",
    "        conservative_liberal += 1\n",
    "        \n",
    "    else:\n",
    "        conservative_conservative += 1"
   ]
  },
  {
   "cell_type": "code",
   "execution_count": null,
   "metadata": {},
   "outputs": [],
   "source": [
    "print(\"Number of edges between liberal blogs: %d (%1.3f)\" % (liberal_liberal, \n",
    "                                       liberal_liberal/float(digraph.number_of_edges()) ))\n",
    "print(\"Number of edges between conservative blogs: %d (%1.3f)\" % (conservative_conservative, \n",
    "                                            conservative_conservative/float(digraph.number_of_edges()) ))\n",
    "print(\"Number of edges from liberal to conservative blogs: %d (%1.3f)\" % (liberal_conservative, \n",
    "                                                    liberal_conservative/float(digraph.number_of_edges()) ))\n",
    "print(\"Number of edges from conservative to liberal blogs: %d (%1.3f)\" % (conservative_liberal, \n",
    "                                                    conservative_liberal/float(digraph.number_of_edges()) ))"
   ]
  },
  {
   "cell_type": "markdown",
   "metadata": {},
   "source": [
    "### 1.7.3 Components (strongly vs weakly connected components)"
   ]
  },
  {
   "cell_type": "code",
   "execution_count": null,
   "metadata": {},
   "outputs": [],
   "source": [
    "# Number of components\n",
    "print(\"Number of weakly connected components: %d\" % nx.number_weakly_connected_components(digraph))\n",
    "print(\"Number of strongly connected components: %d\" % nx.number_strongly_connected_components(digraph))\n",
    "\n",
    "# Find the size of the giant weakly connected component\n",
    "N = digraph.number_of_nodes()\n",
    "wccs = sorted(nx.weakly_connected_components(digraph), key=len, reverse=True)\n",
    "gwcc = digraph.subgraph(wccs[0])\n",
    "print(\"Size of the weakly giant connected component: %d (%1.2f)\" % (len(gwcc), len(gwcc)/N))\n",
    "\n",
    "# Find the size of the giant strongly connected component\n",
    "sccs = sorted(nx.strongly_connected_components(digraph), key=len, reverse=True)\n",
    "gscc = digraph.subgraph(sccs[0])\n",
    "print(\"Size of the strongly giant connected component: %d (%1.2f)\" %  (len(gscc), len(gscc)/N))"
   ]
  },
  {
   "cell_type": "markdown",
   "metadata": {},
   "source": [
    "### 1.7.4 Paths and path length\n"
   ]
  },
  {
   "cell_type": "code",
   "execution_count": null,
   "metadata": {},
   "outputs": [],
   "source": [
    "graph = gscc.copy()\n",
    "print(\"Is the graph directed?\",graph.is_directed())\n",
    "\n",
    "print(\"Average shortest-path length: %1.3f\" % nx.average_shortest_path_length(graph))\n",
    "print(\"Graph radius: %1.3f\" % nx.radius(graph))\n",
    "print(\"Graph diameter: %1.3f\" % nx.diameter(graph))\n",
    "print()\n",
    "graph = graph.to_undirected()\n",
    "print(\"Average shortest-path length: %1.3f\" % nx.average_shortest_path_length(graph))\n",
    "print(\"Graph radius: %1.3f\" % nx.radius(graph))\n",
    "print(\"Graph diameter: %1.3f\" % nx.diameter(graph))"
   ]
  },
  {
   "cell_type": "code",
   "execution_count": null,
   "metadata": {},
   "outputs": [],
   "source": [
    "digraph.number_of_nodes()"
   ]
  },
  {
   "cell_type": "markdown",
   "metadata": {},
   "source": [
    "## 1.8 Visualization in networkx - Introduction \n",
    "(helpful color website: http://tools.medialab.sciences-po.fr/iwanthue/)"
   ]
  },
  {
   "cell_type": "code",
   "execution_count": null,
   "metadata": {},
   "outputs": [],
   "source": [
    "cols = [\"#c5c03a\",\"#7275d7\",\"#8fb755\",\"#c361bd\",\"#5ec384\",\"#d3537a\",\"#3fe0d8\",\"#cb6b3b\"]\n",
    "fig, ax = plt.subplots(1,1,figsize=(len(cols)*1.75,1.5),dpi=120)\n",
    "\n",
    "xvals = np.linspace(0,1,len(cols)+1)\n",
    "for i in range(len(xvals)-1):\n",
    "    ax.fill_between([xvals[i],xvals[i+1]],\n",
    "                     0,1,color=cols[i])\n",
    "    ax.text(np.mean([xvals[i],xvals[i+1]]),0.5,'Index = %i\\n%s'%(i,cols[i]),\n",
    "            ha='center',va='center',color='.1',fontsize='x-large')\n",
    "ax.set_xlim(0,1)\n",
    "ax.set_ylim(0,1)\n",
    "ax.set_axis_off()\n",
    "ax.set_title('Example list of colors (variable name `cols`)',fontsize='xx-large')\n",
    "\n",
    "plt.show()"
   ]
  },
  {
   "cell_type": "code",
   "execution_count": null,
   "metadata": {},
   "outputs": [],
   "source": [
    "# get the political leanings and assign them to colors\n",
    "leanings = nx.get_node_attributes(graph,'political_orientation')\n",
    "node_colors = [cols[0] if leaning=='conservative' else cols[1] \\\n",
    "               for leaning in leanings.values()]\n",
    "\n",
    "edge_colors = '.4'"
   ]
  },
  {
   "cell_type": "code",
   "execution_count": null,
   "metadata": {},
   "outputs": [],
   "source": [
    "fig, ax = plt.subplots(1,1,figsize=(7,6),dpi=100)\n",
    "\n",
    "# first assign nodes to a position in the pos dictionary\n",
    "pos = nx.spring_layout(graph)\n",
    "\n",
    "# then draw the nodes\n",
    "nx.draw_networkx_nodes(graph, pos, node_color=node_colors,\n",
    "                       node_size=50, edgecolors='w', alpha=0.9, linewidths=0.5, ax=ax)\n",
    "\n",
    "## without node outlines\n",
    "# nx.draw_networkx_nodes(graph, pos, node_color=node_colors, node_size=50, alpha=0.9, ax=ax)\n",
    "\n",
    "# then draw the edges\n",
    "nx.draw_networkx_edges(graph, pos, edge_color=edge_colors, width=1.25, alpha=0.5, ax=ax)\n",
    "\n",
    "ax.set_title('Hyperlinks between Political Blogs\\n(Adamic & Glance, 2005)', fontsize='large')\n",
    "ax.set_axis_off()\n",
    "\n",
    "legend_node0 = '0'\n",
    "legend_node1 = '1000'\n",
    "\n",
    "##### just for adding legend, is unnecessary #####\n",
    "nx.draw_networkx_nodes(graph, {legend_node0:pos[legend_node0]}, nodelist=[legend_node0], \n",
    "                       label='liberal blogs', \n",
    "                       node_color=cols[1], node_size=70, edgecolors='w', alpha=0.9, ax=ax)\n",
    "nx.draw_networkx_nodes(graph, {legend_node1:pos[legend_node1]}, nodelist=[legend_node1], \n",
    "                       label='conservative blogs',\n",
    "                       node_color=cols[0], node_size=70, edgecolors='w', alpha=0.9, ax=ax)\n",
    "ax.legend(fontsize='small')\n",
    "\n",
    "## I tend to save two figures each time:\n",
    "## - one png, which is good for slides, and\n",
    "## - one pdf, which is good for papers\n",
    "\n",
    "plt.savefig('figs/pngs/PolBlogs_network.png', dpi=425, bbox_inches='tight')\n",
    "plt.savefig('figs/pdfs/PolBlogs_network.pdf', bbox_inches='tight')\n",
    "plt.show()"
   ]
  },
  {
   "cell_type": "markdown",
   "metadata": {},
   "source": [
    "### 1.8.1 Different network layouts"
   ]
  },
  {
   "cell_type": "code",
   "execution_count": null,
   "metadata": {},
   "outputs": [],
   "source": [
    "fig, ax = plt.subplots(1,4,figsize=(31,7),dpi=150)\n",
    "plt.subplots_adjust(wspace=0.2)\n",
    "\n",
    "pos0 = nx.spring_layout(graph)\n",
    "pos1 = nx.random_layout(graph)\n",
    "pos2 = nx.kamada_kawai_layout(graph)\n",
    "pos3 = nx.circular_layout(graph)\n",
    "\n",
    "pos_list = [pos0, pos1, pos2, pos3]\n",
    "pos_titles = ['nx.spring_layout', 'nx.random_layout', 'nx.kamada_kawai_layout', 'nx.circular_layout']\n",
    "\n",
    "for i,pos in enumerate(pos_list):\n",
    "    nx.draw_networkx_nodes(graph, pos, node_color=node_colors, linewidths=0.5,\n",
    "                           node_size=50, edgecolors='w', alpha=0.9, ax=ax[i])\n",
    "    nx.draw_networkx_edges(graph, pos, edge_color=edge_colors, \n",
    "                           width=1.25, alpha=0.15, ax=ax[i])\n",
    "    \n",
    "    ax[i].set_title(pos_titles[i], fontsize=24)\n",
    "    ax[i].set_axis_off()\n",
    "\n",
    "plt.savefig('figs/pngs/PolBlogs_network_4layouts.png', dpi=425, bbox_inches='tight')\n",
    "plt.savefig('figs/pdfs/PolBlogs_network_4layouts.pdf', bbox_inches='tight')\n",
    "plt.show()"
   ]
  },
  {
   "cell_type": "markdown",
   "metadata": {},
   "source": [
    "## 1.9 Visualizing network properties: Degree Distributions"
   ]
  },
  {
   "cell_type": "code",
   "execution_count": null,
   "metadata": {},
   "outputs": [],
   "source": [
    "def plot_degree(degree, number_of_bins=50, log_binning=True, base=2):\n",
    "    \"\"\"\n",
    "    Given a degree sequence, return the y values (probability) and the\n",
    "    x values (support) of a degree distribution that you're going to plot.\n",
    "    \n",
    "    Parameters\n",
    "    ----------\n",
    "    degree (np.ndarray or list):\n",
    "        a vector of length N that corresponds to the degree, k_i, of every\n",
    "        node, v_i, in the network\n",
    "\n",
    "    number_of_bins (int):\n",
    "        length of output vectors\n",
    "    \n",
    "    log_binning (bool)\n",
    "        if you are plotting on a log-log axis, then this is useful\n",
    "    \n",
    "    base (int):\n",
    "        log base, defaults to 2\n",
    "        \n",
    "    Returns\n",
    "    -------\n",
    "    x, y (np.ndarray):\n",
    "        the support and probability values of the degree distribution\n",
    "    \n",
    "    \"\"\"\n",
    "    \n",
    "    # We need to define the support of our distribution\n",
    "    lower_bound = min(degree)\n",
    "    upper_bound = max(degree)\n",
    "    \n",
    "    # And the bins\n",
    "    if log_binning:\n",
    "        log = np.log2 if base == 2 else np.log10\n",
    "        lower_bound = log(lower_bound) if lower_bound >= 1 else 0.0\n",
    "        upper_bound = log(upper_bound)\n",
    "        bins = np.logspace(lower_bound,upper_bound,number_of_bins, base = base)\n",
    "    else:\n",
    "        bins = np.linspace(lower_bound,upper_bound,number_of_bins)\n",
    "    \n",
    "    # Then we can compute the histogram using numpy\n",
    "    y, __ = np.histogram(degree, \n",
    "                           bins = bins,\n",
    "                           density=True)\n",
    "    # Now, we need to compute for each y the value of x\n",
    "    x = bins[1:] - np.diff(bins)/2.0\n",
    "        \n",
    "    return x, y"
   ]
  },
  {
   "cell_type": "code",
   "execution_count": null,
   "metadata": {},
   "outputs": [],
   "source": [
    "x1,y1 = plot_degree(list(in_degree.values()), number_of_bins=80, log_binning=True, base=2)\n",
    "x2,y2 = plot_degree(list(out_degree.values()), number_of_bins=80, log_binning=True, base=2)"
   ]
  },
  {
   "cell_type": "code",
   "execution_count": null,
   "metadata": {},
   "outputs": [],
   "source": [
    "fig, ax = plt.subplots(1,1,figsize=(4.5,4),dpi=125)\n",
    "\n",
    "ax.loglog(x1, y1,'o', color=cols[4], label='in-degree', alpha=0.8, mec='.1')\n",
    "ax.loglog(x2, y2,'s', color=cols[6], label='out-degree', alpha=0.8, mec='.4')\n",
    "ax.set_xlabel(r\"$k$\",fontsize='large')\n",
    "ax.set_ylabel(r\"$P(k)$\",fontsize='large')\n",
    "ax.legend(fontsize='small')\n",
    "\n",
    "ax.grid(linewidth=1.5, color='#999999', alpha=0.2, linestyle='-')\n",
    "\n",
    "plt.savefig('figs/pngs/PolBlogs_inout_degreedist.png', dpi=425, bbox_inches='tight')\n",
    "plt.savefig('figs/pdfs/PolBlogs_inout_degreedist.pdf', bbox_inches='tight')\n",
    "plt.show()"
   ]
  },
  {
   "cell_type": "markdown",
   "metadata": {},
   "source": [
    "### 1.9.1 Linear binning vs log binning"
   ]
  },
  {
   "cell_type": "code",
   "execution_count": null,
   "metadata": {},
   "outputs": [],
   "source": [
    "# Note: your plots will look silly if you don't do log binning...\n",
    "nbins = 50\n",
    "fig, ax = plt.subplots(1,2,figsize=(10,4),dpi=150)\n",
    "plt.subplots_adjust(wspace=0.3)\n",
    "\n",
    "x1,y1 = plot_degree(list(in_degree.values()), number_of_bins=nbins, log_binning=True, base=2)\n",
    "x2,y2 = plot_degree(list(out_degree.values()), number_of_bins=nbins, log_binning=True, base=2)\n",
    "ax[0].loglog(x1, y1,'o', color=cols[4], label='in-degree', alpha=0.8, mec='.1')\n",
    "ax[0].loglog(x2, y2,'s', color=cols[6], label='out-degree', alpha=0.8, mec='.4')\n",
    "ax[0].set_xlabel(r\"$k$\", fontsize='large')\n",
    "ax[0].set_ylabel(r\"$P(k)$\", fontsize='large')\n",
    "ax[0].legend(fontsize='small')\n",
    "ax[0].grid(linewidth=1.5, color='#999999', alpha=0.2, linestyle='-')\n",
    "ax[0].set_title('With log-binning (not ugly)', fontsize='x-large')\n",
    "\n",
    "x1,y1 = plot_degree(list(in_degree.values()), number_of_bins=nbins, log_binning=False, base=2)\n",
    "x2,y2 = plot_degree(list(out_degree.values()), number_of_bins=nbins, log_binning=False, base=2)\n",
    "ax[1].loglog(x1, y1,'o', color=cols[4], label='in-degree', alpha=0.8, mec='.1')\n",
    "ax[1].loglog(x2, y2,'s', color=cols[6], label='out-degree', alpha=0.8, mec='.4')\n",
    "ax[1].set_xlabel(r\"$k$\", fontsize='large')\n",
    "ax[1].set_ylabel(r\"$P(k)$\", fontsize='large')\n",
    "ax[1].legend(fontsize='small')\n",
    "ax[1].grid(linewidth=1.5, color='#999999', alpha=0.2, linestyle='-')\n",
    "ax[1].set_title('Without log-binning (ugly)', fontsize='x-large')\n",
    "\n",
    "plt.savefig('figs/pngs/PolBlogs_inout_degreedist_binningcompare.png', dpi=425, bbox_inches='tight')\n",
    "plt.savefig('figs/pdfs/PolBlogs_inout_degreedist_binningcompare.pdf', bbox_inches='tight')\n",
    "plt.show()"
   ]
  },
  {
   "cell_type": "markdown",
   "metadata": {},
   "source": [
    "_________________"
   ]
  },
  {
   "cell_type": "markdown",
   "metadata": {},
   "source": [
    "# 2. Network Models\n",
    "\n",
    "### Static Random Graph Models\n",
    "#### Erdős-Rényi Model(s)\n",
    "\n",
    "The original formulation: a $G_{(N,M)}$ graph is constructed starting from a set $V$ of $N$ different vertices connected at random by $M$ edges (Erdős and Rényi, 1959; 1960; 1961).\n",
    "\n",
    "A variation of this model proposed by Gilbert (1959) constructs a $G_{(N,p)}$ graph from a set $V$ of $N$ different vertices in which each of the possibile $\\frac{N(N-1)}{2}$ edges is present with probability $p$ (the _connection probability_).\n",
    "\n",
    "The two models are statistically equivalent as $N \\rightarrow \\infty$ with:\n",
    "\n",
    "$$ \\dfrac{pN(N-1)}{2} = E $$\n"
   ]
  },
  {
   "cell_type": "code",
   "execution_count": null,
   "metadata": {},
   "outputs": [],
   "source": [
    "N = 100\n",
    "p = 0.01\n",
    "E = p*N*(N-1)*0.5\n",
    "av_deg = (N-1)*p\n",
    "er = nx.erdos_renyi_graph(N,p) \n",
    "# the function called erdos_renyi actually generates the Gilbert variation of the model\n",
    "\n",
    "## To generate the original Erdos-Renyi graph use\n",
    "# er = nx.gnm_random_graph(N,int(E))\n",
    "\n",
    "## And to generate the Gilbert graph you can also use\n",
    "# g = nx.gnp_random_graph(N,p)"
   ]
  },
  {
   "cell_type": "markdown",
   "metadata": {},
   "source": [
    "The average number of edges generated in the construction of the graph is:\n",
    "\n",
    "$$ \\langle E \\rangle = \\dfrac{N(N-1)p}{2}, $$\n",
    "\n",
    "and the average degree:\n",
    "\n",
    "$$ \\langle k \\rangle = \\frac{2\\langle E \\rangle}{N} = (N-1)p \\simeq Np .$$"
   ]
  },
  {
   "cell_type": "code",
   "execution_count": null,
   "metadata": {},
   "outputs": [],
   "source": [
    "# the average number of edges generated in the construction of the graph\n",
    "exp_E = 0.5*N*(N-1)*p \n",
    "\n",
    "B = 2000 # number of replications\n",
    "actual_E = [nx.gnp_random_graph(N,p).number_of_edges() for b in range(B)]\n",
    "\n",
    "print(\"Expected mean number of edges: %1.2f\" % exp_E)\n",
    "print(\"Actual mean number of edges: %1.2f (%d replications)\" % (np.mean(actual_E),B))"
   ]
  },
  {
   "cell_type": "markdown",
   "metadata": {},
   "source": [
    "And the average clustering coefficient is equal to:\n",
    "\n",
    "$$ \\langle C \\rangle = p = \\frac{\\langle k \\rangle}{N}. $$"
   ]
  },
  {
   "cell_type": "code",
   "execution_count": null,
   "metadata": {},
   "outputs": [],
   "source": [
    "N = 1000\n",
    "p = 0.01\n",
    "B = 10 # number of replications\n",
    "actual_av_clustering = [nx.average_clustering(nx.gnp_random_graph(N,p)) for b in range(B)]\n",
    "print(\"Expected average clustering coefficient: %1.4f\" % p)\n",
    "print(\"Actual average clustering coefficient: %1.4f (mean over %i replications)\"%(\n",
    "    np.mean(actual_av_clustering),B))"
   ]
  },
  {
   "cell_type": "markdown",
   "metadata": {},
   "source": [
    "And for a connected network of average degree $\\langle k \\rangle$ the average shortest path length $\\langle l \\rangle$ can be approximated by:\n",
    "\n",
    "$$ \\langle l \\rangle \\simeq \\frac{\\log N}{\\log \\langle k \\rangle} .$$"
   ]
  },
  {
   "cell_type": "markdown",
   "metadata": {},
   "source": [
    "## 2.1.2 ER Network - Degree distribution"
   ]
  },
  {
   "cell_type": "markdown",
   "metadata": {},
   "source": [
    "In the limit for large $N$ the degree distribution $P(k)$ can be approximated by the Poisson distribution:\n",
    "\n",
    "$$ P(k) = e^{-\\langle k \\rangle}\\frac{\\langle k \\rangle^k}{k!} $$\n",
    "\n",
    "Although, before that, it is defined by a Binomial distribution:\n",
    "\n",
    "$$ P(k) = \\binom{N-1}{k} p^k (1-p)^{N-k-1} $$\n"
   ]
  },
  {
   "cell_type": "code",
   "execution_count": null,
   "metadata": {},
   "outputs": [],
   "source": [
    "N = 10**4\n",
    "p = 0.001\n",
    "av_deg = (N-1)*p"
   ]
  },
  {
   "cell_type": "code",
   "execution_count": null,
   "metadata": {},
   "outputs": [],
   "source": [
    "plt.rc('axes', axisbelow=True)"
   ]
  },
  {
   "cell_type": "code",
   "execution_count": null,
   "metadata": {},
   "outputs": [],
   "source": [
    "num_bins = 20\n",
    "\n",
    "fig, ax = plt.subplots(1,1,figsize=(6,4),dpi=150)\n",
    "\n",
    "g = nx.gnp_random_graph(N,p)\n",
    "nd = np.array(list(dict(g.degree()).values()))\n",
    "\n",
    "__ = ax.hist(nd, bins=num_bins, edgecolor='#333333', linewidth=1.1, color=cols[5],\n",
    "             alpha=0.75, label='Erdös-Rényi\\n($N=10^{3}, p=10^{-3}$)')\n",
    "\n",
    "k = np.random.poisson(av_deg, size=N)\n",
    "__ = ax.hist(k, bins=num_bins, edgecolor='#333333', linewidth=1.1, color=cols[6],\n",
    "             alpha=0.75, label='Poisson distribution')\n",
    "\n",
    "ax.legend(fontsize='small')\n",
    "ax.grid(linewidth=1.5, color='#999999', alpha=0.2, linestyle='-')\n",
    "\n",
    "ax.set_xlabel(r\"$k$\")\n",
    "ax.set_ylabel(\"frequency\")\n",
    "\n",
    "plt.savefig('figs/pngs/Pk_ER_vs_poisson.png', dpi=425, bbox_inches='tight')\n",
    "plt.savefig('figs/pdfs/Pk_ER_vs_poisson.pdf', bbox_inches='tight')\n",
    "plt.show()"
   ]
  },
  {
   "cell_type": "code",
   "execution_count": null,
   "metadata": {},
   "outputs": [],
   "source": []
  },
  {
   "cell_type": "code",
   "execution_count": null,
   "metadata": {},
   "outputs": [],
   "source": [
    "fig, ax = plt.subplots(1,6,figsize=(14,2),dpi=200)\n",
    "\n",
    "N = 100\n",
    "for i,p in enumerate([0.001, 0.01, 0.025, 0.05, 0.1, 1.0]):\n",
    "    G = nx.erdos_renyi_graph(N,p)\n",
    "    nx.draw_spring(G, ax=ax[i], node_size=10, node_color=[i/6]*N,\n",
    "                   vmin=0, vmax=1, cmap='Accent', edge_color='.5', alpha=0.8)\n",
    "    ax[i].set_title(r'$p=%.3f$'%p)\n",
    "\n",
    "\n",
    "plt.suptitle(r'Comparison of Erdős-Rényi graphs ($N=%i$, varying $p$)'%N,\n",
    "             y=1.25, fontweight='bold')\n",
    "    \n",
    "plt.show()"
   ]
  },
  {
   "cell_type": "code",
   "execution_count": null,
   "metadata": {},
   "outputs": [],
   "source": []
  },
  {
   "cell_type": "markdown",
   "metadata": {},
   "source": [
    "____\n",
    "### Random geometric graphs\n",
    "\n",
    "Erdős-Rényi graphs are useful objects, despite their lack of realism. The model requires few (two) parameters, which can often allow them to be easily studied analytically numerically. Another similar family of random graphs is known as ***random geometric graphs***. Constructing a random geometric graph (RGG) involves randomly assigning $N$ nodes to positions on a geometric surface, then connecting each pair of nodes according to some function of their distance $d(i,j)$.\n",
    "\n",
    "A simple version of this is to place $N$ nodes uniformly at random in the unit square, and connect every pair of nodes if the distance between the nodes is at most radius $r$."
   ]
  },
  {
   "cell_type": "code",
   "execution_count": null,
   "metadata": {},
   "outputs": [],
   "source": [
    "fig, ax = plt.subplots(1,6,figsize=(14,2),dpi=200)\n",
    "\n",
    "N = 100\n",
    "for i,r in enumerate([0.1, 0.15, 0.2, 0.25, 0.5, 1.0]):\n",
    "    G = nx.random_geometric_graph(N,r)\n",
    "    pos = nx.get_node_attributes(G,'pos')\n",
    "    nx.draw(G, pos=pos, ax=ax[i], node_size=10, node_color=[i/6]*N,\n",
    "            vmin=0, vmax=1, cmap='Accent', edge_color='.5', alpha=0.8)\n",
    "    ax[i].set_title(r'$r=%.3f$'%r)\n",
    "\n",
    "\n",
    "plt.suptitle(r'Comparison of random geometric graphs ($N=%i$, varying $r$)'%N,\n",
    "             y=1.25, fontweight='bold')\n",
    "    \n",
    "plt.show()"
   ]
  },
  {
   "cell_type": "code",
   "execution_count": null,
   "metadata": {},
   "outputs": [],
   "source": []
  },
  {
   "cell_type": "markdown",
   "metadata": {},
   "source": [
    "#### Your turn!\n",
    "In `networkx` there are many ways to create graphs, functions known as graph generators. \n",
    "\n",
    "Pick three graph generators from this list (that you haven't heard of!), and adapt the graph visualization code above to visualize small samples from each ensemble https://networkx.org/documentation/stable/reference/generators.html."
   ]
  },
  {
   "cell_type": "markdown",
   "metadata": {},
   "source": [
    "___________\n",
    "## 2.2 Powerlaw distributions"
   ]
  },
  {
   "cell_type": "code",
   "execution_count": null,
   "metadata": {},
   "outputs": [],
   "source": [
    "# In NetworX this graphs can be generated using\n",
    "from networkx.utils import powerlaw_sequence\n",
    "N = 10**6\n",
    "gammas = np.linspace(2.0,4.0,11)\n",
    "powerlaw_dict = {gamma:nx.utils.powerlaw_sequence(N, gamma, seed=5) for gamma in gammas}"
   ]
  },
  {
   "cell_type": "code",
   "execution_count": null,
   "metadata": {},
   "outputs": [],
   "source": [
    "fig, ax = plt.subplots(1,1,figsize=(5,4),dpi=150)\n",
    "\n",
    "powerlaw_cols = plt.cm.inferno_r(np.linspace(0.1,0.8,len(gammas)))\n",
    "\n",
    "for i,degree_sequence in enumerate(list(powerlaw_dict.values())):\n",
    "    x,y = plot_degree(degree_sequence, number_of_bins=20, log_binning=True, base=2)\n",
    "    nonzero_inds = np.nonzero(y)[0]\n",
    "    \n",
    "    ax.loglog(x[nonzero_inds], y[nonzero_inds], 'o-', markersize=5,\n",
    "              color=powerlaw_cols[i], alpha=0.9, markeredgecolor='w',\n",
    "              markeredgewidth=0.5,label='$\\gamma=%.1f$'%gammas[i])\n",
    "    \n",
    "ax.set_xlabel(r\"$k$\", fontsize='large')\n",
    "ax.set_ylabel(r\"$P(k)$\", fontsize='large')\n",
    "ax.grid(linewidth=1.5, color='#999999', alpha=0.2, linestyle='-')\n",
    "\n",
    "ax.set_title('Powerlaw distributions of varying\\n degree exponent $\\gamma$ (where $N = 10^6$)')\n",
    "ax.legend(fontsize='x-small')\n",
    "\n",
    "plt.savefig('figs/pngs/powerlaw_exponent_examples.png', dpi=425, bbox_inches='tight')\n",
    "plt.savefig('figs/pdfs/powerlaw_exponent_examples.pdf', bbox_inches='tight')\n",
    "plt.show()"
   ]
  },
  {
   "cell_type": "markdown",
   "metadata": {},
   "source": [
    "# 2.3 Watts–Strogatz Model\n",
    "In random graph models the clustering coefficient is determined by the imposed degree distribution and vanishes in the limit of very large graphs. Empirically, we observe very large clustering coefficients in many real-world networks.\n",
    "The ___Watts-Strogatz model___ allows us to generate graphs with _high clustering_ but also _small average distances_ (Watts & Strogatz, 1998).\n",
    "\n",
    "The model works as follow: \n",
    "1. $N$ vertices are positioned along a ring \n",
    "* Each vertex is then symmetrically connected to its 2m nearest neighbors (i.e. $\\langle k \\rangle = 2m$)\n",
    "* For every vertex, each edge connected to a clockwise neighbor is randomly rewired with probability $p$, and preserved with probability $1− p$"
   ]
  },
  {
   "cell_type": "code",
   "execution_count": null,
   "metadata": {},
   "outputs": [],
   "source": [
    "ps = np.logspace(-4, 0, num=15)\n",
    "p0 = ps[0]\n",
    "n_graphs = 10\n",
    "k = 10\n",
    "N = 1000\n",
    "\n",
    "cc_dict = dict(zip(ps, [[]]*len(ps)))\n",
    "pl_dict = dict(zip(ps, [[]]*len(ps)))\n",
    "\n",
    "# inits\n",
    "cc0 = []\n",
    "pl0 = []\n",
    "for i in range(n_graphs):\n",
    "    G = nx.watts_strogatz_graph(N, k, p0)\n",
    "    cc0.append(nx.average_clustering(G))\n",
    "    pl0.append(nx.average_shortest_path_length(G))\n",
    "\n",
    "cc0 = np.mean(cc0)\n",
    "pl0 = np.mean(pl0)"
   ]
  },
  {
   "cell_type": "markdown",
   "metadata": {},
   "source": [
    "### Caution: this takes ~2 minutes"
   ]
  },
  {
   "cell_type": "code",
   "execution_count": null,
   "metadata": {},
   "outputs": [],
   "source": [
    "import datetime as dt\n",
    "for i, p in enumerate(ps):\n",
    "    print(dt.datetime.now(),'--- %02i: p=%.4f'%(i,p))\n",
    "    cc_list = []\n",
    "    pl_list = []\n",
    "    for i in range(n_graphs):\n",
    "        G = nx.watts_strogatz_graph(N, k, p)\n",
    "        while not nx.is_connected(G):\n",
    "            G = nx.watts_strogatz_graph(N, k, p)\n",
    "        cc_list.append(nx.average_clustering(G))\n",
    "        pl_list.append(nx.average_shortest_path_length(G))\n",
    "        \n",
    "    cc_dict[p] = np.mean(cc_list)    \n",
    "    pl_dict[p] = np.mean(pl_list)\n",
    "\n",
    "cc = dict(zip(ps, [0]*len(ps)))\n",
    "pl = dict(zip(ps, [0]*len(ps)))\n",
    "\n",
    "for p in ps:\n",
    "    cc[p] = np.mean(cc_dict[p]) / cc0\n",
    "    pl[p] = np.mean(pl_dict[p]) / pl0"
   ]
  },
  {
   "cell_type": "markdown",
   "metadata": {},
   "source": [
    "Let us see how average clustering and average shortest path length vary with $p$:"
   ]
  },
  {
   "cell_type": "code",
   "execution_count": null,
   "metadata": {},
   "outputs": [],
   "source": [
    "fig, ax = plt.subplots(1,1,figsize=(6,4),dpi=125)\n",
    "\n",
    "ax.semilogx(ps, list(pl.values()), marker='o', markersize=9.0, color=cols[1],\n",
    "          alpha=0.9, markeredgecolor='w',markeredgewidth=1.5,\n",
    "            label=r'$\\dfrac{L_{p}}{L_{0}}$', linewidth=3.0)\n",
    "ax.semilogx(ps, list(cc.values()), marker='o', markersize=9.0, color=cols[-3],\n",
    "          alpha=0.9, markeredgecolor='w',markeredgewidth=1.5,\n",
    "            label=r'$\\dfrac{C_{p}}{C_{0}}$', linewidth=3.0)\n",
    "\n",
    "ax.fill_between([0.0025,0.075], -1, 2, label='wow!', facecolor=cols[4], \n",
    "                alpha=0.3, edgecolor='w', linewidth=2.0)\n",
    "\n",
    "ax.set_xlabel(r\"$p$\", fontsize=16)\n",
    "ax.set_ylabel(\"ratio\", fontsize=16)\n",
    "ax.grid(linewidth=2.0, color='#999999', alpha=0.2, linestyle='-')\n",
    "\n",
    "ax.set_title('Replication: (Watts & Strogatz, 1998, Fig.2)',fontsize=15)\n",
    "ax.legend(fontsize=14)\n",
    "\n",
    "ax.set_ylim(-0.05,1.05)\n",
    "plt.savefig('figs/pngs/Watts_Strogatz_Fig2.png', dpi=425, bbox_inches='tight')\n",
    "plt.savefig('figs/pdfs/Watts_Strogatz_Fig2.pdf', bbox_inches='tight')\n",
    "plt.show()"
   ]
  },
  {
   "cell_type": "markdown",
   "metadata": {},
   "source": [
    "### Quick note about the above plot: it is arguably the reason all of us are in this room right now\n",
    "__________"
   ]
  },
  {
   "cell_type": "markdown",
   "metadata": {},
   "source": [
    "# 2.4 Growing Networks"
   ]
  },
  {
   "cell_type": "code",
   "execution_count": null,
   "metadata": {},
   "outputs": [],
   "source": [
    "# In NetworkX we can generate the model using:\n",
    "N = 100000\n",
    "m = 3\n",
    "ba = nx.barabasi_albert_graph(N, m)\n",
    "degree_sequence = np.array(list(dict(ba.degree()).values()))"
   ]
  },
  {
   "cell_type": "code",
   "execution_count": null,
   "metadata": {},
   "outputs": [],
   "source": [
    "fig, ax = plt.subplots(1,1,figsize=(5,4),dpi=125)\n",
    "\n",
    "x,y = plot_degree(degree_sequence, number_of_bins=40, log_binning=True, base=2)\n",
    "\n",
    "nonzero_inds = np.nonzero(y)[0]\n",
    "ax.loglog(x[nonzero_inds], y[nonzero_inds], 'o', markersize=7,\n",
    "          color='#333333', alpha=0.9, markeredgecolor='w',\n",
    "          markeredgewidth=0.5, label='$N=%i, m=%i$'%(N,m))\n",
    "\n",
    "ax.set_xlabel(r\"$k$\", fontsize=16)\n",
    "ax.set_ylabel(r\"$P(k)$\", fontsize=16)\n",
    "ax.grid(linewidth=1.5, color='#999999', alpha=0.2, linestyle='-')\n",
    "ax.set_title('Scale free degree distribution',fontsize=16)\n",
    "ax.legend()\n",
    "\n",
    "plt.savefig('figs/pngs/barabasi_albert_degreedist.png', dpi=425, bbox_inches='tight')\n",
    "plt.savefig('figs/pdfs/barabasi_albert_degreedist.pdf', bbox_inches='tight')\n",
    "plt.show()"
   ]
  },
  {
   "cell_type": "markdown",
   "metadata": {},
   "source": [
    "_____________"
   ]
  },
  {
   "cell_type": "markdown",
   "metadata": {},
   "source": [
    "### 2.4.1 The Network Zoo\n",
    "**Phrase from:** [Young, J. G., St-Onge, G., Laurence, E., Murphy, C., Hébert-Dufresne, L., & Desrosiers, P. (2019).](https://doi.org/10.1103/PhysRevX.9.041056https://doi.org/10.1103/PhysRevX.9.041056) Phase transition in the recoverability of network history. *Physical Review X*, 9(4), 041056.\n",
    "\n",
    "Below are several instantiations of networks grown under a preferential attachment mechanism where new nodes attach their $m$ edges to nodes already in the graph with probability:\n",
    "\n",
    "$$ \\Pi_i = \\dfrac{k_i^{\\alpha}}{\\sum_i k_i^{\\alpha}} $$"
   ]
  },
  {
   "cell_type": "code",
   "execution_count": null,
   "metadata": {},
   "outputs": [],
   "source": [
    "def preferential_attachment_network(N, alpha=1.0, m=1):\n",
    "    r\"\"\"\n",
    "    Generates a network based off of a preferential attachment growth rule.\n",
    "    Under this growth rule, new nodes place their $m$ edges to nodes already\n",
    "    present in the graph, G, with a probability proportional to $k^\\alpha$.\n",
    "\n",
    "    Parameters\n",
    "    ----------\n",
    "    N (int): the desired number of nodes in the final network\n",
    "    alpha (float): the exponent of preferential attachment. When alpha is less\n",
    "                   than 1.0, we describe it as sublinear preferential\n",
    "                   attachment. At alpha > 1.0, it is superlinear preferential\n",
    "                   attachment. And at alpha=1.0, the network was grown under\n",
    "                   linear preferential attachment, as in the case of\n",
    "                   Barabasi-Albert networks.\n",
    "    m (int): the number of new links that each new node joins the network with.\n",
    "\n",
    "    Returns\n",
    "    -------\n",
    "    G (nx.Graph): a graph grown under preferential attachment.\n",
    "\n",
    "    \"\"\"\n",
    "\n",
    "    G = nx.Graph()\n",
    "    G = nx.complete_graph(m+1)\n",
    "\n",
    "    for node_i in range(m+1, N):\n",
    "        degrees = np.array(list(dict(G.degree()).values()))\n",
    "        probs = (degrees**alpha) / sum(degrees**alpha)\n",
    "        eijs = np.random.choice(\n",
    "                    G.number_of_nodes(), size=(m,),\n",
    "                    replace=False, p=probs)\n",
    "        for node_j in eijs:\n",
    "            G.add_edge(node_i, node_j)\n",
    "\n",
    "    return G"
   ]
  },
  {
   "cell_type": "code",
   "execution_count": null,
   "metadata": {},
   "outputs": [],
   "source": [
    "fig, ax = plt.subplots(3,7,figsize=(40,18),dpi=150)\n",
    "plt.subplots_adjust(hspace=0.5)#,wspace=0.15)\n",
    "\n",
    "tups=[(0,0), (0,1), (0,2), (0,3), (0,4), (0,5), (0,6), \n",
    "      (1,0), (1,1), (1,2), (1,3), (1,4), (1,5), (1,6), \n",
    "      (2,0), (2,1), (2,2), (2,3), (2,4), (2,5), (2,6)]\n",
    "      \n",
    "N = 30\n",
    "m = 1\n",
    "alphas = np.linspace(-5,5,len(tups))\n",
    "colors = ['.4']+list(plt.cm.tab20b(np.linspace(0.1,0.9,20)))\n",
    "\n",
    "for ix, alpha in enumerate(alphas):\n",
    "    G = preferential_attachment_network(N,alpha,m)\n",
    "    q = tups[ix]\n",
    "    pos = nx.kamada_kawai_layout(G)\n",
    "    \n",
    "    nx.draw_networkx_nodes(G, pos, node_color=[colors[ix]]*N, node_size=200, linewidths=2.0,\n",
    "                           alpha=0.9, edgecolors='w', ax=ax[q])\n",
    "    nx.draw_networkx_edges(G, pos, edge_color='#666666', width=3.0, alpha=0.55, ax=ax[q])\n",
    "\n",
    "    ax[q].set_title(r\"$\\alpha=%.2f$\"%alpha,fontsize=26)\n",
    "    ax[q].set_axis_off()\n",
    "    \n",
    "plt.savefig('figs/pngs/preferential_attachment_alpha.png', dpi=425, bbox_inches='tight')\n",
    "plt.savefig('figs/pdfs/preferential_attachment_alpha.pdf', bbox_inches='tight')\n",
    "plt.show()"
   ]
  },
  {
   "cell_type": "code",
   "execution_count": null,
   "metadata": {},
   "outputs": [],
   "source": []
  },
  {
   "cell_type": "markdown",
   "metadata": {},
   "source": [
    "________________\n",
    "## Data Input/Output\n",
    "\n",
    "### Online Data Resources\n",
    "\n",
    "There are many online resources that share network data to play around with.\n",
    "\n",
    "- Network Repository (https://networkrepository.com/)\n",
    "- Netzschleuder (https://networks.skewed.de/)\n",
    "- Index of Complex Networks, aka ICON (https://icon.colorado.edu/)\n",
    "- Mark Newman’s collection (https://public.websites.umich.edu/~mejn/netdata/)\n",
    "- Awesome Network Analysis (https://github.com/briatte/awesome-network-analysis?tab=readme-ov-file#datasets)\n",
    "\n",
    "### Network Data Formats\n",
    "<a name=\"formats\"></a>\n",
    "There are a number of established network file formats that you may used for existing datasets. In the most basic form, all file formats must include: a. A list of nodes (perhaps with associated attributes) b. A list of edges (perhaps with associated attributes). Different file formats will store this in different, and some provide features that others don't. Here we ask you to look at a few file formats:\n",
    "\n",
    "- Edgelist or CSV (https://networkx.org/documentation/stable/reference/readwrite/index.html)\n",
    "- GraphML (https://networkx.org/documentation/stable/reference/readwrite/graphml.html)\n",
    "- GML (https://networkx.org/documentation/stable/reference/readwrite/gml.html)\n",
    "- Gephi (https://networkx.org/documentation/stable/reference/readwrite/gexf.html)\n",
    "- JSON (https://networkx.org/documentation/stable/reference/readwrite/json_graph.html)\n",
    " \n",
    "We typically will use edgelist formats, but GraphML files are often quite useful for storing and transmitting edge/node attribute data."
   ]
  },
  {
   "cell_type": "code",
   "execution_count": null,
   "metadata": {},
   "outputs": [],
   "source": []
  },
  {
   "cell_type": "markdown",
   "metadata": {},
   "source": [
    "______________"
   ]
  },
  {
   "cell_type": "markdown",
   "metadata": {},
   "source": [
    "# 3. Fun datasets and figures"
   ]
  },
  {
   "cell_type": "markdown",
   "metadata": {},
   "source": [
    "## 3.1 USA commuter network\n",
    "\n",
    "The USA Commuter Network dataset represents the flow of daily work-related travel between counties in the United States. Each node corresponds to a county (or county-equivalent), and edges are weighted by the number of commuters traveling between them, as estimated from U.S. Census Bureau’s Longitudinal Employer-Household Dynamics (LEHD) Origin-Destination Employment Statistics. This network provides a rich lens for studying spatial connectivity, regional labor markets, mobility patterns, and the potential spread of information, goods, or diseases through commuter flows."
   ]
  },
  {
   "cell_type": "code",
   "execution_count": null,
   "metadata": {},
   "outputs": [],
   "source": [
    "import pickle\n",
    "with open('datasets/commuter.pickle', 'rb') as handle:\n",
    "    commute_network = pickle.load(handle)"
   ]
  },
  {
   "cell_type": "code",
   "execution_count": null,
   "metadata": {},
   "outputs": [],
   "source": [
    "G = nx.DiGraph()\n",
    "for i in list(commute_network.keys()):\n",
    "    G.add_node(i, pos=commute_network[i]['pos'], \n",
    "                  population=commute_network[i]['population'],\n",
    "                  state=commute_network[i]['state'],\n",
    "                  housing=commute_network[i]['housing'])\n",
    "    edge_data = commute_network[i]['edge_data']\n",
    "    for j in range(len(edge_data['edges'])):\n",
    "        G.add_edge(i, edge_data['edges'][j],\n",
    "                   weight=edge_data['weight'][j],\n",
    "                   margin=edge_data['margin'][j])"
   ]
  },
  {
   "cell_type": "code",
   "execution_count": null,
   "metadata": {},
   "outputs": [],
   "source": [
    "pos = dict(nx.get_node_attributes(G,'pos'))\n",
    "xs = list(list(zip(*list(pos.values())))[0])\n",
    "ys = list(list(zip(*list(pos.values())))[1])"
   ]
  },
  {
   "cell_type": "code",
   "execution_count": null,
   "metadata": {},
   "outputs": [],
   "source": [
    "gp = nx.to_undirected(G)"
   ]
  },
  {
   "cell_type": "code",
   "execution_count": null,
   "metadata": {},
   "outputs": [],
   "source": [
    "statehood = nx.get_node_attributes(G,'state')\n",
    "unique_states = np.unique(list(statehood.values()))\n",
    "np.random.shuffle(unique_states)\n",
    "nstates = len(unique_states)\n",
    "cmap_cols = dict(zip(unique_states, plt.cm.tab20_r(np.linspace(0,1,nstates))))\n",
    "node_colors = [cmap_cols[com] for com in statehood.values()]\n",
    "\n",
    "mult=1.0\n",
    "fig, ax = plt.subplots(1,1,figsize=(16*mult,10*mult),dpi=150)\n",
    "\n",
    "ns = 2.0\n",
    "ew = 0.25\n",
    "ec = '.3'\n",
    "nc = node_colors\n",
    "\n",
    "nx.draw_networkx_edges(gp, pos, width=ew, edge_color=ec, ax=ax, alpha=0.5)\n",
    "nx.draw_networkx_nodes(gp, pos, node_size=ns, node_color=nc, ax=ax, alpha=0.8,\n",
    "                       edgecolors='.1', linewidths=0.1)\n",
    "\n",
    "ax.set_axis_off()\n",
    "\n",
    "xdiff = max(xs)-min(xs)\n",
    "ydiff = max(ys)-min(ys)\n",
    "\n",
    "ax.set_ylim(min(ys)-ydiff*0.01, max(ys)+ydiff*0.05)\n",
    "ax.set_xlim(min(xs)-xdiff*0.01, max(xs)+xdiff*0.01)\n",
    "\n",
    "plt.savefig('figs/pngs/USA_commutes_statecolors.png', dpi=600, bbox_inches='tight')\n",
    "plt.savefig('figs/pdfs/USA_commutes_statecolors.pdf', bbox_inches='tight')\n",
    "plt.show()"
   ]
  },
  {
   "cell_type": "markdown",
   "metadata": {},
   "source": [
    "## 3.1.1 Community detection"
   ]
  },
  {
   "cell_type": "code",
   "execution_count": null,
   "metadata": {},
   "outputs": [],
   "source": [
    "import community"
   ]
  },
  {
   "cell_type": "code",
   "execution_count": null,
   "metadata": {},
   "outputs": [],
   "source": [
    "partition = community.best_partition(gp)\n",
    "communities = np.array(list(partition.values()))\n",
    "comms = np.unique(communities)\n",
    "ncomm = len(comms)\n",
    "\n",
    "cmap_cols1 = plt.cm.tab20b(np.linspace(0,1,int(ncomm/2)+1))\n",
    "cmap_cols2 = plt.cm.tab20b(np.linspace(0,1,int(ncomm/2)+1))\n",
    "cmap_cols = list(cmap_cols1) + list(cmap_cols2)\n",
    "\n",
    "order = np.random.choice(list(range(len(cmap_cols))),size=len(cmap_cols),replace=False)\n",
    "cmap_cols = [cmap_cols[i] for i in order]\n",
    "node_colors = [cmap_cols[com] for com in communities]"
   ]
  },
  {
   "cell_type": "code",
   "execution_count": null,
   "metadata": {},
   "outputs": [],
   "source": [
    "mult=1.0\n",
    "fig, ax = plt.subplots(1,1,figsize=(16*mult,10*mult),dpi=150)\n",
    "\n",
    "ns = 2.0\n",
    "ew = 0.5\n",
    "ec = '.3'\n",
    "nc = node_colors\n",
    "\n",
    "nx.draw_networkx_edges(gp, pos, width=ew, edge_color=ec, ax=ax, alpha=0.4)\n",
    "nx.draw_networkx_nodes(gp, pos, node_size=ns, node_color=nc, ax=ax, alpha=0.8,\n",
    "                       edgecolors='w', linewidths=0.1)\n",
    "\n",
    "ax.set_axis_off()\n",
    "\n",
    "xdiff = max(xs)-min(xs)\n",
    "ydiff = max(ys)-min(ys)\n",
    "\n",
    "ax.set_ylim(min(ys)-ydiff*0.01, max(ys)+ydiff*0.05)\n",
    "ax.set_xlim(min(xs)-xdiff*0.01, max(xs)+xdiff*0.01)\n",
    "\n",
    "plt.savefig('figs/pngs/USA_commutes.png', dpi=600, bbox_inches='tight')\n",
    "plt.savefig('figs/pdfs/USA_commutes.pdf', bbox_inches='tight')\n",
    "plt.show()"
   ]
  },
  {
   "cell_type": "markdown",
   "metadata": {},
   "source": [
    "## 3.1.2 Zooming in: Subsetting the network + `geopandas`"
   ]
  },
  {
   "cell_type": "code",
   "execution_count": null,
   "metadata": {},
   "outputs": [],
   "source": [
    "nodes_state = nx.get_node_attributes(gp, 'state')\n",
    "keep_nodes = [i for i,j in nodes_state.items() if j in ['CA','AZ','NV','OR']]"
   ]
  },
  {
   "cell_type": "code",
   "execution_count": null,
   "metadata": {},
   "outputs": [],
   "source": [
    "import geopandas as gpd\n",
    "\n",
    "state_shp = gpd.read_file('datasets/tl_2017_us_state/')\n",
    "sta_shp = state_shp.loc[~(state_shp['STATEFP'].isin(['78','60','72','66','02','15','69']))].copy()\n",
    "sta_shp = sta_shp.rename(columns={'GEOID':'location_id'})\n",
    "\n",
    "# sta_shp.crs = {\"init\": \"epsg:4326\"}\n",
    "# sta_shp = sta_shp.to_crs(epsg=3395)"
   ]
  },
  {
   "cell_type": "code",
   "execution_count": null,
   "metadata": {},
   "outputs": [],
   "source": [
    "gpx = nx.subgraph(gp,keep_nodes)\n",
    "\n",
    "# partition = community.best_partition(gpx)\n",
    "communities = np.array(list(partition.values()))\n",
    "comms = np.unique(communities)\n",
    "ncomm = len(comms)\n",
    "\n",
    "cmap_cols2 = plt.cm.tab20b(np.linspace(0,1,int(ncomm/3)+1))\n",
    "cmap_cols1 = plt.cm.Set3(np.linspace(0,1,int(ncomm/3)+1))\n",
    "cmap_cols3 = plt.cm.Dark2(np.linspace(0,1,int(ncomm/3)+1))\n",
    "cmap_cols = list(cmap_cols1) + list(cmap_cols2) + list(cmap_cols3)\n",
    "order = np.random.choice(list(range(len(cmap_cols))),size=len(cmap_cols),replace=False)\n",
    "order = list(range(len(cmap_cols)))\n",
    "cmap_cols = [cmap_cols[i] for i in order]\n",
    "node_colors = {i:cmap_cols[com] for i,com in partition.items()}"
   ]
  },
  {
   "cell_type": "code",
   "execution_count": null,
   "metadata": {},
   "outputs": [],
   "source": [
    "pos = dict(nx.get_node_attributes(gpx,'pos'))\n",
    "xs = list(list(zip(*list(pos.values())))[0])\n",
    "ys = list(list(zip(*list(pos.values())))[1])\n",
    "\n",
    "mult=1.0\n",
    "fig, ax = plt.subplots(1,1,figsize=(8*mult,8*mult),dpi=150)\n",
    "\n",
    "ns = 2.75\n",
    "ew = 0.25\n",
    "ec = '.5'\n",
    "nc = [node_colors[i] for i in gpx.nodes()]\n",
    "\n",
    "sta_shp.loc[sta_shp['STATEFP'].isin(['04','41','32','06'])].plot(ax=ax,\n",
    "                             ec='0.5', fc='None', lw=0.5, alpha=0.6)\n",
    "\n",
    "nx.draw_networkx_edges(gpx, pos, width=ew, edge_color=ec, ax=ax, alpha=0.2)\n",
    "nx.draw_networkx_nodes(gpx, pos, node_size=ns, node_color=nc, ax=ax, alpha=0.9,\n",
    "                       edgecolors='.1', linewidths=0.2)\n",
    "\n",
    "ax.set_axis_off()\n",
    "\n",
    "plt.savefig('figs/pngs/cali_commutes_bright.png', dpi=600, bbox_inches='tight', transparent=False)\n",
    "plt.show()"
   ]
  },
  {
   "cell_type": "markdown",
   "metadata": {},
   "source": [
    "### 3.1.3 Plot with dark background"
   ]
  },
  {
   "cell_type": "code",
   "execution_count": null,
   "metadata": {},
   "outputs": [],
   "source": [
    "partition = community.best_partition(gp)\n",
    "communities = np.array(list(partition.values()))\n",
    "comms = np.unique(communities)\n",
    "ncomm = len(comms)\n",
    "\n",
    "cmap_cols2 = plt.cm.tab20b(np.linspace(0,1,int(ncomm/3)+1))\n",
    "cmap_cols1 = plt.cm.Set3(np.linspace(0,1,int(ncomm/3)+1))\n",
    "cmap_cols3 = plt.cm.Dark2(np.linspace(0,1,int(ncomm/3)+1))\n",
    "cmap_cols = list(cmap_cols1) + list(cmap_cols2) + list(cmap_cols3)\n",
    "order = np.random.choice(list(range(len(cmap_cols))),size=len(cmap_cols),replace=False)\n",
    "order = list(range(len(cmap_cols)))\n",
    "cmap_cols = [cmap_cols[i] for i in order]\n",
    "node_colors = [cmap_cols[com] for com in communities]\n",
    "\n",
    "pos = dict(nx.get_node_attributes(gp,'pos'))\n",
    "xs = list(list(zip(*list(pos.values())))[0])\n",
    "ys = list(list(zip(*list(pos.values())))[1])\n",
    "\n",
    "\n",
    "################################################################################################\n",
    "mult=1.0\n",
    "fig, ax = plt.subplots(1,1,figsize=(14*mult,10*mult),dpi=150,facecolor='.15')\n",
    "\n",
    "ns = 2.25\n",
    "ew = 0.25\n",
    "ec = '.7'\n",
    "nc = node_colors\n",
    "\n",
    "sta_shp.plot(ax=ax, ec='w', fc='None', lw=0.5, alpha=0.7)\n",
    "\n",
    "nx.draw_networkx_edges(gp, pos, width=ew, edge_color=ec, ax=ax, alpha=0.4)\n",
    "nx.draw_networkx_nodes(gp, pos, node_size=ns, node_color=nc, ax=ax, alpha=0.9,\n",
    "                       edgecolors='.9', linewidths=0.1)\n",
    "\n",
    "ax.set_axis_off()\n",
    "ax.set_facecolor('.2')\n",
    "\n",
    "plt.savefig('figs/pngs/USA_commutes_bright_darkbkgd.png',\n",
    "            dpi=600, bbox_inches='tight', facecolor='.15')\n",
    "\n",
    "plt.show()"
   ]
  },
  {
   "cell_type": "markdown",
   "metadata": {},
   "source": [
    "____________________"
   ]
  },
  {
   "cell_type": "markdown",
   "metadata": {},
   "source": [
    "# 4.0 Network Science Data & Models\n",
    "**https://network-science-data-and-models.github.io/book-core/intro.html**"
   ]
  },
  {
   "cell_type": "markdown",
   "metadata": {},
   "source": [
    "![title](figs/pngs/nsdm.png)\n",
    "**https://network-science-data-and-models.github.io/book-core/intro.html**"
   ]
  },
  {
   "cell_type": "markdown",
   "metadata": {},
   "source": [
    "_________"
   ]
  },
  {
   "cell_type": "markdown",
   "metadata": {},
   "source": [
    "# 5.0 Other related activities on github"
   ]
  },
  {
   "cell_type": "markdown",
   "metadata": {},
   "source": [
    "## 5.1 `einet` -- tools for identifying higher scales in complex networks\n",
    "![title](figs/pngs/einet.png)"
   ]
  },
  {
   "cell_type": "markdown",
   "metadata": {},
   "source": [
    "## 5.2 `multilayer` -- functions for plotting multilayer networks\n",
    "![title](figs/pngs/multilayer.png)"
   ]
  },
  {
   "cell_type": "markdown",
   "metadata": {},
   "source": [
    "## 5.3 `campus-covid` -- data and analysis for institutes of higher education + covid\n",
    "![title](figs/pngs/campus.png)"
   ]
  },
  {
   "cell_type": "markdown",
   "metadata": {},
   "source": [
    "## 5.4 `datasets on incarcerated persons` -- data and analysis of the U.S. criminal legal system\n",
    "![title](figs/pngs/decarceration.png)"
   ]
  },
  {
   "cell_type": "markdown",
   "metadata": {},
   "source": [
    "## 5.5 `presilience` -- code for quantifying resilience in biological networks\n",
    "![title](figs/pngs/protein.png)"
   ]
  },
  {
   "cell_type": "markdown",
   "metadata": {},
   "source": [
    "## 5.6 (in this repo) `color_explorer` -- tool for assessing accessible colormaps\n",
    "![title](figs/pngs/color_explorer_TestColormap3.png)"
   ]
  },
  {
   "cell_type": "markdown",
   "metadata": {},
   "source": [
    "# Thank you!\n",
    "\n",
    "\n"
   ]
  },
  {
   "cell_type": "markdown",
   "metadata": {},
   "source": [
    "_________________"
   ]
  },
  {
   "cell_type": "markdown",
   "metadata": {},
   "source": [
    "## References:\n",
    "1. __[Barrat, A., Barthelemy, M., & Vespignani, A. (2008). Dynamical processes on complex networks. Cambridge university press.](https://www.cambridge.org/core/books/dynamical-processes-on-complex-networks/D0173F07E0F05CEE9CF7A6BDAF48E9FC)__\n",
    "2. __[Newman, M. E. (2003). Mixing patterns in networks. *Physical Review E*, 67(2), 026126.](http://www.uvm.edu/pdodds/research/papers/others/2003/newman2003e.pdf)__\n",
    "3. __[Fagiolo, G. (2007). Clustering in complex directed networks. *Physical Review E*, 76(2), 026107.](https://journals.aps.org/pre/abstract/10.1103/PhysRevE.76.026107)__\n",
    "4. __[Barabási, A. L., & Albert, R. (1999). Emergence of scaling in random networks. *Science*, 286(5439), 509-512.](https://science.sciencemag.org/content/286/5439/509)__\n",
    "5. __[Watts, D. J., & Strogatz, S. H. (1998). Collective dynamics of ‘small-world’ networks. *Nature*, 393(6684), 440.](https://www.nature.com/articles/30918.)__\n",
    "6. __[Gómez-Gardeñes, J., & Moreno, Y. (2006). From scale-free to Erdos-Rényi networks. *Physical Review E*, 73(5), 056124.](https://journals.aps.org/pre/abstract/10.1103/PhysRevE.73.056124)__\n",
    "7. __[Erdös, P., & Rényi, A. (1959). On random graphs, I. Publicationes Mathematicae (Debrecen), 6, 290-297.](http://snap.stanford.edu/class/cs224w-readings/erdos59random.pdf)__\n",
    "8. __[Fortunato, S. (2010). Community detection in graphs. *Physics Reports*, 486(3), 75-174.](https://www.sciencedirect.com/science/article/abs/pii/S0370157309002841)__\n",
    "9. __[Newman, M. E. (2006). Modularity and community structure in networks. *Proceedings of the National Academy of Sciences*, 103(23), 8577-8582.](https://www.pnas.org/content/103/23/8577)__\n",
    "10. __[Newman, M. E. (2012). Communities, modules and large-scale structure in networks. Nature Physics, 8(1), 25-31.](http://citeseerx.ist.psu.edu/viewdoc/download?doi=10.1.1.295.535&rep=rep1&type=pdf)__\n",
    "11. __[Pastor-Satorras, R., & Vespignani, A. (2002). Immunization of complex networks. Physical review E, 65(3), 036104.](https://journals.aps.org/pre/abstract/10.1103/PhysRevE.65.036104)__\n",
    "12. __[Delvenne, J. C., Yaliraki, S. N., & Barahona, M. (2010). Stability of graph communities across time scales. *Proceedings of the National Academy of Sciences*, 107(29), 12755-12760.](https://www.pnas.org/content/107/29/12755)__\n",
    "13. __[Lambiotte, R., Delvenne, J. C., & Barahona, M. (2008). Laplacian dynamics and multiscale modular structure in networks.](https://arxiv.org/pdf/0812.1770.pdf)__\n",
    "14. __[Delvenne, J. C., Schaub, M. T., Yaliraki, S. N., & Barahona, M. (2013). The stability of a graph partition: A dynamics-based framework for community detection. In Dynamics On and Of Complex Networks, Volume 2 (pp. 221-242). Springer New York.](https://arxiv.org/abs/1308.1605)__\n",
    "15. __[Schaub, M. T., Delvenne, J. C., Yaliraki, S. N., & Barahona, M. (2012). Markov dynamics as a zooming lens for multiscale community detection: non clique-like communities and the field-of-view limit. *PloS One*, 7(2), e32210.](https://journals.plos.org/plosone/article?id=10.1371/journal.pone.0032210)__\n",
    "16. __[Lancichinetti, A., Fortunato, S., & Radicchi, F. (2008). Benchmark graphs for testing community detection algorithms. *Physical Review E*, 78(4), 046110.](https://journals.aps.org/pre/abstract/10.1103/PhysRevE.78.046110)__\n",
    "17. __[Adamic, L. A., & Glance, N. (2005, August). The political blogosphere and the 2004 US election: divided they blog. *In Proceedings of the 3rd international workshop on Link discovery* (pp. 36-43). ACM.](http://www.ramb.ethz.ch/CDstore/www2005-ws/workshop/wf10/AdamicGlanceBlogWWW.pdf)__\n",
    "18. __[Clauset, A., Shalizi, C. R., & Newman, M. E. (2009). Power-law distributions in empirical data. *SIAM Review*, 51(4), 661-703.](https://arxiv.org/abs/0706.1062)__\n",
    "19. __[Voitalov, I., van der Hoorn, P., van der Hofstad, R., & Krioukov, D. (2018). Scale-free networks well done. arXiv preprint arXiv:1811.02071.](https://arxiv.org/abs/1811.02071)__\n",
    "20. __[Broido, A. D., & Clauset, A. (2019). Scale-free networks are rare. *Nature Communications*, 10(1), 1017.](https://www.nature.com/articles/s41467-019-08746-5)__\n",
    "21. __[Young, J. G., Hébert-Dufresne, L., Laurence, E., Murphy, C., St-Onge, G., & Desrosiers, P. (2018). Network archaeology: phase transition in the recoverability of network history. arXiv preprint arXiv:1803.09191.](https://arxiv.org/abs/1803.09191)__\n"
   ]
  },
  {
   "cell_type": "markdown",
   "metadata": {},
   "source": [
    "## Useful links:\n",
    "*  __[10gb of Jupyter notebooks (need to update, but there's nonetheless a ton)](https://www.dropbox.com/sh/zlih7ac2d9xb3ao/AADCM4DQXpGLsW5E53S_mGUba?dl=0)__"
   ]
  }
 ],
 "metadata": {
  "kernelspec": {
   "display_name": "Python 3",
   "language": "python",
   "name": "python3"
  },
  "language_info": {
   "codemirror_mode": {
    "name": "ipython",
    "version": 3
   },
   "file_extension": ".py",
   "mimetype": "text/x-python",
   "name": "python",
   "nbconvert_exporter": "python",
   "pygments_lexer": "ipython3",
   "version": "3.8.5"
  }
 },
 "nbformat": 4,
 "nbformat_minor": 4
}
